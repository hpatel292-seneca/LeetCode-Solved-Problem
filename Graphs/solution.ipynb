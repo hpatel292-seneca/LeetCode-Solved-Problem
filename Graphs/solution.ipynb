{
 "cells": [
  {
   "cell_type": "markdown",
   "metadata": {},
   "source": [
    "# Graph Questions"
   ]
  },
  {
   "cell_type": "markdown",
   "metadata": {},
   "source": [
    "## Implicit graphs\n",
    " If a problem involves transitioning between states, then try to think about if the states can be nodes and the transition criteria can be edges. Additionally, if the problem wants the shortest path or fewest operations etc., it is a great candidate for BFS\n",
    "\n",
    "### Leetcode 752. Open the Lock"
   ]
  },
  {
   "cell_type": "code",
   "execution_count": 3,
   "metadata": {},
   "outputs": [],
   "source": [
    "class Solution(object):\n",
    "    def openLock(self, deadends, target):\n",
    "        \"\"\"\n",
    "        :type deadends: List[str]\n",
    "        :type target: str\n",
    "        :rtype: int\n",
    "        \"\"\"\n",
    "        def neighbours(node):  # It will run in constant time as for a given start/node, there will be only 8 connected state\n",
    "            ans=[]\n",
    "            for i in range(4):\n",
    "                num=int(node[i])\n",
    "                for j in [-1, 1]:\n",
    "                    new_num=(num+j)%10\n",
    "                    ans.append(node[:i] + str(new_num)+node[i+1:])\n",
    "            return ans\n",
    "        \n",
    "        if '0000' in deadends:\n",
    "            return -1\n",
    "        \n",
    "        queue=deque()\n",
    "        seen=set(deadends)  # O(d) :d=len(deadends)\n",
    "        queue.append(('0000', 0))\n",
    "        seen.add('0000')\n",
    "\n",
    "        while queue:  # O(V+E) v=num of nodes (10,000) and E=num of edges 80,000\n",
    "            node, steps=queue.popleft()\n",
    "            if node==target:\n",
    "                return steps\n",
    "            \n",
    "            for i in neighbours(node):\n",
    "                if i not in seen:\n",
    "                    seen.add(i)\n",
    "                    queue.append((i, steps+1))\n",
    "        \n",
    "        return -1"
   ]
  }
 ],
 "metadata": {
  "kernelspec": {
   "display_name": "Python 3",
   "language": "python",
   "name": "python3"
  },
  "language_info": {
   "codemirror_mode": {
    "name": "ipython",
    "version": 3
   },
   "file_extension": ".py",
   "mimetype": "text/x-python",
   "name": "python",
   "nbconvert_exporter": "python",
   "pygments_lexer": "ipython3",
   "version": "3.10.13"
  }
 },
 "nbformat": 4,
 "nbformat_minor": 2
}
